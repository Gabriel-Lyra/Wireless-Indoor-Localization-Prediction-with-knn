{
 "cells": [
  {
   "cell_type": "code",
   "execution_count": 142,
   "metadata": {
    "collapsed": false
   },
   "outputs": [
   ],
   "source": [
    "##Importing libraries\n",
    "\n",
    "import numpy as np\n",
    "import pandas as pd\n",
    "\n",
    "import matplotlib.pyplot as plt\n",
    "import seaborn as sns\n",
    "from sklearn import preprocessing\n",
    "from sklearn import utils\n",
    "from mlxtend.plotting import plot_decision_regions\n",
    "%matplotlib inline\n",
    "\n",
    "##Algorithms used for prediction\n",
    "from sklearn.neighbors import KNeighborsClassifier\n",
    "\n",
    "##sklearn tools used for standardizing, normalising, predicting and reporting\n",
    "from sklearn.model_selection import train_test_split\n",
    "from sklearn import preprocessing\n",
    "from sklearn.preprocessing import StandardScaler\n",
    "from sklearn.model_selection import cross_val_score\n",
    "from sklearn import decomposition, datasets\n",
    "from sklearn.pipeline import Pipeline\n",
    "from sklearn.model_selection import GridSearchCV\n",
    "from sklearn import metrics\n",
    "\n",
    "import warnings\n",
    "warnings.filterwarnings('ignore')"
   ]
  },
  {
   "cell_type": "code",
   "execution_count": 143,
   "metadata": {
    "collapsed": false
   },
   "outputs": [
   ],
   "source": [
    "##Reading dataset (you can find it easily at my github project folder)\n",
    "\n",
    "dataset = pd.read_csv('wifi_localization.csv')"
   ]
  },
  {
   "cell_type": "code",
   "execution_count": 144,
   "metadata": {
    "collapsed": false
   },
   "outputs": [
    {
     "data": {
      "text/html": [
       "<div>\n",
       "<style scoped>\n",
       "    .dataframe tbody tr th:only-of-type {\n",
       "        vertical-align: middle;\n",
       "    }\n",
       "\n",
       "    .dataframe tbody tr th {\n",
       "        vertical-align: top;\n",
       "    }\n",
       "\n",
       "    .dataframe thead th {\n",
       "        text-align: right;\n",
       "    }\n",
       "</style>\n",
       "<table border=\"1\" class=\"dataframe\">\n",
       "  <thead>\n",
       "    <tr style=\"text-align: right;\">\n",
       "      <th></th>\n",
       "      <th>WS1</th>\n",
       "      <th>WS2</th>\n",
       "      <th>WS3</th>\n",
       "      <th>WS4</th>\n",
       "      <th>WS5</th>\n",
       "      <th>WS6</th>\n",
       "      <th>WS7</th>\n",
       "      <th>Class</th>\n",
       "    </tr>\n",
       "  </thead>\n",
       "  <tbody>\n",
       "    <tr>\n",
       "      <th>0</th>\n",
       "      <td>-64</td>\n",
       "      <td>-56</td>\n",
       "      <td>-61</td>\n",
       "      <td>-66</td>\n",
       "      <td>-71</td>\n",
       "      <td>-82</td>\n",
       "      <td>-81</td>\n",
       "      <td>1</td>\n",
       "    </tr>\n",
       "    <tr>\n",
       "      <th>1</th>\n",
       "      <td>-68</td>\n",
       "      <td>-57</td>\n",
       "      <td>-61</td>\n",
       "      <td>-65</td>\n",
       "      <td>-71</td>\n",
       "      <td>-85</td>\n",
       "      <td>-85</td>\n",
       "      <td>1</td>\n",
       "    </tr>\n",
       "    <tr>\n",
       "      <th>2</th>\n",
       "      <td>-63</td>\n",
       "      <td>-60</td>\n",
       "      <td>-60</td>\n",
       "      <td>-67</td>\n",
       "      <td>-76</td>\n",
       "      <td>-85</td>\n",
       "      <td>-84</td>\n",
       "      <td>1</td>\n",
       "    </tr>\n",
       "    <tr>\n",
       "      <th>3</th>\n",
       "      <td>-61</td>\n",
       "      <td>-60</td>\n",
       "      <td>-68</td>\n",
       "      <td>-62</td>\n",
       "      <td>-77</td>\n",
       "      <td>-90</td>\n",
       "      <td>-80</td>\n",
       "      <td>1</td>\n",
       "    </tr>\n",
       "    <tr>\n",
       "      <th>4</th>\n",
       "      <td>-63</td>\n",
       "      <td>-65</td>\n",
       "      <td>-60</td>\n",
       "      <td>-63</td>\n",
       "      <td>-77</td>\n",
       "      <td>-81</td>\n",
       "      <td>-87</td>\n",
       "      <td>1</td>\n",
       "    </tr>\n",
       "  </tbody>\n",
       "</table>\n",
       "</div>"
      ],
      "text/plain": [
       "   WS1  WS2  WS3  WS4  WS5  WS6  WS7  Class\n",
       "0  -64  -56  -61  -66  -71  -82  -81      1\n",
       "1  -68  -57  -61  -65  -71  -85  -85      1\n",
       "2  -63  -60  -60  -67  -76  -85  -84      1\n",
       "3  -61  -60  -68  -62  -77  -90  -80      1\n",
       "4  -63  -65  -60  -63  -77  -81  -87      1"
      ]
     },
     "execution_count": 144,
     "metadata": {
     },
     "output_type": "execute_result"
    }
   ],
   "source": [
    "##Peeking at data\n",
    "\n",
    "dataset.head()"
   ]
  },
  {
   "cell_type": "code",
   "execution_count": 145,
   "metadata": {
    "collapsed": false
   },
   "outputs": [
   ],
   "source": [
    "##Splitting the dataset\n",
    "\n",
    "features = dataset['Class']\n",
    "outcome = dataset.drop(['Class'], axis=1)"
   ]
  },
  {
   "cell_type": "code",
   "execution_count": 146,
   "metadata": {
    "collapsed": false
   },
   "outputs": [
   ],
   "source": [
    "##Splitting the data into test (30%) and training (70%)\n",
    "\n",
    "outcome_train, outcome_test, features_train, features_test = train_test_split(outcome, features, test_size = 0.3, random_state = 0)"
   ]
  },
  {
   "cell_type": "code",
   "execution_count": 147,
   "metadata": {
    "collapsed": false
   },
   "outputs": [
    {
     "data": {
      "text/plain": [
       "97.83"
      ]
     },
     "execution_count": 147,
     "metadata": {
     },
     "output_type": "execute_result"
    }
   ],
   "source": [
    "##KNN\n",
    "\n",
    "knn = KNeighborsClassifier(n_neighbors = 3)\n",
    "knn.fit(outcome_train, features_train)\n",
    "\n",
    "accuracy_knn = round(knn.score(outcome_test, features_test) * 100, 2)\n",
    "\n",
    "accuracy_knn"
   ]
  },
  {
   "cell_type": "code",
   "execution_count": 148,
   "metadata": {
    "collapsed": false
   },
   "outputs": [
    {
     "name": "stdout",
     "output_type": "stream",
     "text": [
      "Fitting 10 folds for each of 1800 candidates, totalling 18000 fits\n"
     ]
    },
    {
     "data": {
      "text/plain": [
       "{'algorithm': 'ball_tree',\n",
       " 'leaf_size': 1,\n",
       " 'metric': 'minkowski',\n",
       " 'metric_params': None,\n",
       " 'n_jobs': None,\n",
       " 'n_neighbors': 4,\n",
       " 'p': 2,\n",
       " 'weights': 'uniform'}"
      ]
     },
     "execution_count": 148,
     "metadata": {
     },
     "output_type": "execute_result"
    }
   ],
   "source": [
    "##KNN with hyperparameters + cross validation\n",
    "\n",
    "knn = KNeighborsClassifier()\n",
    "\n",
    "k_range = range(1, 31)\n",
    "leaf_range = 2 ** np.arange(10)\n",
    "weight_options = ['uniform', 'distance']\n",
    "algorithm_options = ['ball_tree', 'kd_tree', 'brute']\n",
    "\n",
    "hyperK = dict(n_neighbors = k_range, algorithm = algorithm_options, weights = weight_options, leaf_size = leaf_range)\n",
    "\n",
    "gridK = GridSearchCV(knn, hyperK, cv = 10, verbose = 1, n_jobs = -1)\n",
    "bestK = gridK.fit(outcome_train, features_train)\n",
    "\n",
    "bestK.best_estimator_.get_params()"
   ]
  },
  {
   "cell_type": "code",
   "execution_count": 149,
   "metadata": {
    "collapsed": false
   },
   "outputs": [
    {
     "name": "stdout",
     "output_type": "stream",
     "text": [
      "              precision    recall  f1-score   support\n",
      "\n",
      "           1       1.00      0.99      0.99       159\n",
      "           2       0.97      0.99      0.98       148\n",
      "           3       0.98      0.97      0.97       155\n",
      "           4       0.99      1.00      1.00       138\n",
      "\n",
      "    accuracy                           0.98       600\n",
      "   macro avg       0.99      0.99      0.99       600\n",
      "weighted avg       0.99      0.98      0.99       600\n",
      "\n"
     ]
    }
   ],
   "source": [
    "##Other metrics to use as reference\n",
    "\n",
    "classes = bestK.predict(outcome_test)\n",
    "    \n",
    "accuracy = metrics.accuracy_score(classes, features_test)\n",
    "precision = metrics.precision_score(classes, features_test, average='micro')\n",
    "f1_score = metrics.f1_score(classes, features_test, average='micro')\n",
    "recall = metrics.recall_score(classes, features_test, average='micro')\n",
    "\n",
    "print(metrics.classification_report(classes, features_test))"
   ]
  },
  {
   "cell_type": "code",
   "execution_count": 150,
   "metadata": {
    "collapsed": false
   },
   "outputs": [
    {
     "name": "stdout",
     "output_type": "stream",
     "text": [
      "Model accuracy is 0.985\n"
     ]
    }
   ],
   "source": [
    "##Model accuracy after use of GridSearch\n",
    "\n",
    "print('Model accuracy is',bestK.score(outcome_test, features_test))"
   ]
  },
  {
   "cell_type": "code",
   "execution_count": 151,
   "metadata": {
    "collapsed": false
   },
   "outputs": [
   ],
   "source": [
    "##Reading dataset (you can find it easily at my github project folder)\n",
    "\n",
    "dataset = pd.read_csv('wifi_localization.csv')"
   ]
  },
  {
   "cell_type": "code",
   "execution_count": 152,
   "metadata": {
    "collapsed": false
   },
   "outputs": [
   ],
   "source": [
    "##Using StandardScalar to normalise the dataset\n",
    "\n",
    "standard_scalar = StandardScaler()\n",
    "dataset = pd.DataFrame(standard_scalar.fit_transform(dataset), columns = dataset.columns)"
   ]
  },
  {
   "cell_type": "code",
   "execution_count": 153,
   "metadata": {
    "collapsed": false
   },
   "outputs": [
    {
     "data": {
      "text/html": [
       "<div>\n",
       "<style scoped>\n",
       "    .dataframe tbody tr th:only-of-type {\n",
       "        vertical-align: middle;\n",
       "    }\n",
       "\n",
       "    .dataframe tbody tr th {\n",
       "        vertical-align: top;\n",
       "    }\n",
       "\n",
       "    .dataframe thead th {\n",
       "        text-align: right;\n",
       "    }\n",
       "</style>\n",
       "<table border=\"1\" class=\"dataframe\">\n",
       "  <thead>\n",
       "    <tr style=\"text-align: right;\">\n",
       "      <th></th>\n",
       "      <th>WS1</th>\n",
       "      <th>WS2</th>\n",
       "      <th>WS3</th>\n",
       "      <th>WS4</th>\n",
       "      <th>WS5</th>\n",
       "      <th>WS6</th>\n",
       "      <th>WS7</th>\n",
       "      <th>Class</th>\n",
       "    </tr>\n",
       "  </thead>\n",
       "  <tbody>\n",
       "    <tr>\n",
       "      <th>0</th>\n",
       "      <td>-1.030980</td>\n",
       "      <td>-0.110190</td>\n",
       "      <td>-1.135684</td>\n",
       "      <td>-1.084085</td>\n",
       "      <td>-0.918342</td>\n",
       "      <td>-0.155793</td>\n",
       "      <td>0.111457</td>\n",
       "      <td>-1.341641</td>\n",
       "    </tr>\n",
       "    <tr>\n",
       "      <th>1</th>\n",
       "      <td>-1.384373</td>\n",
       "      <td>-0.402858</td>\n",
       "      <td>-1.135684</td>\n",
       "      <td>-0.996895</td>\n",
       "      <td>-0.918342</td>\n",
       "      <td>-0.616266</td>\n",
       "      <td>-0.502211</td>\n",
       "      <td>-1.341641</td>\n",
       "    </tr>\n",
       "    <tr>\n",
       "      <th>2</th>\n",
       "      <td>-0.942631</td>\n",
       "      <td>-1.280864</td>\n",
       "      <td>-0.947533</td>\n",
       "      <td>-1.171276</td>\n",
       "      <td>-1.467623</td>\n",
       "      <td>-0.616266</td>\n",
       "      <td>-0.348794</td>\n",
       "      <td>-1.341641</td>\n",
       "    </tr>\n",
       "    <tr>\n",
       "      <th>3</th>\n",
       "      <td>-0.765935</td>\n",
       "      <td>-1.280864</td>\n",
       "      <td>-2.452747</td>\n",
       "      <td>-0.735323</td>\n",
       "      <td>-1.577479</td>\n",
       "      <td>-1.383721</td>\n",
       "      <td>0.264874</td>\n",
       "      <td>-1.341641</td>\n",
       "    </tr>\n",
       "    <tr>\n",
       "      <th>4</th>\n",
       "      <td>-0.942631</td>\n",
       "      <td>-2.744208</td>\n",
       "      <td>-0.947533</td>\n",
       "      <td>-0.822513</td>\n",
       "      <td>-1.577479</td>\n",
       "      <td>-0.002302</td>\n",
       "      <td>-0.809045</td>\n",
       "      <td>-1.341641</td>\n",
       "    </tr>\n",
       "  </tbody>\n",
       "</table>\n",
       "</div>"
      ],
      "text/plain": [
       "        WS1       WS2       WS3       WS4       WS5       WS6       WS7  \\\n",
       "0 -1.030980 -0.110190 -1.135684 -1.084085 -0.918342 -0.155793  0.111457   \n",
       "1 -1.384373 -0.402858 -1.135684 -0.996895 -0.918342 -0.616266 -0.502211   \n",
       "2 -0.942631 -1.280864 -0.947533 -1.171276 -1.467623 -0.616266 -0.348794   \n",
       "3 -0.765935 -1.280864 -2.452747 -0.735323 -1.577479 -1.383721  0.264874   \n",
       "4 -0.942631 -2.744208 -0.947533 -0.822513 -1.577479 -0.002302 -0.809045   \n",
       "\n",
       "      Class  \n",
       "0 -1.341641  \n",
       "1 -1.341641  \n",
       "2 -1.341641  \n",
       "3 -1.341641  \n",
       "4 -1.341641  "
      ]
     },
     "execution_count": 153,
     "metadata": {
     },
     "output_type": "execute_result"
    }
   ],
   "source": [
    "dataset.head()"
   ]
  },
  {
   "cell_type": "code",
   "execution_count": 154,
   "metadata": {
    "collapsed": false
   },
   "outputs": [
    {
     "name": "stdout",
     "output_type": "stream",
     "text": [
      "[0 0 0 ... 3 3 3]\n",
      "continuous\n",
      "multiclass\n",
      "multiclass\n"
     ]
    }
   ],
   "source": [
    "##Splitting the dataset\n",
    "\n",
    "features = dataset['Class']\n",
    "outcome = dataset.drop(['Class'], axis=1)\n",
    "\n",
    "lab_enc = preprocessing.LabelEncoder()\n",
    "features_encoded = lab_enc.fit_transform(features)\n",
    "print(training_scores_encoded)\n",
    "print(utils.multiclass.type_of_target(features))\n",
    "print(utils.multiclass.type_of_target(features.astype('int')))\n",
    "print(utils.multiclass.type_of_target(training_scores_encoded))"
   ]
  },
  {
   "cell_type": "code",
   "execution_count": 155,
   "metadata": {
    "collapsed": false
   },
   "outputs": [
   ],
   "source": [
    "##Splitting the data into test (30%) and training (70%)\n",
    "\n",
    "outcome_train, outcome_test, features_train, features_test = train_test_split(outcome, features_encoded, test_size = 0.3, random_state = 0)"
   ]
  },
  {
   "cell_type": "code",
   "execution_count": 156,
   "metadata": {
    "collapsed": false
   },
   "outputs": [
    {
     "data": {
      "text/plain": [
       "97.67"
      ]
     },
     "execution_count": 156,
     "metadata": {
     },
     "output_type": "execute_result"
    }
   ],
   "source": [
    "##KNN\n",
    "\n",
    "knn = KNeighborsClassifier(n_neighbors = 3)\n",
    "knn.fit(outcome_train, features_train)\n",
    "\n",
    "accuracy_knn = round(knn.score(outcome_test, features_test) * 100, 2)\n",
    "\n",
    "accuracy_knn"
   ]
  },
  {
   "cell_type": "code",
   "execution_count": 157,
   "metadata": {
    "collapsed": false
   },
   "outputs": [
    {
     "name": "stdout",
     "output_type": "stream",
     "text": [
      "Fitting 10 folds for each of 1800 candidates, totalling 18000 fits\n"
     ]
    },
    {
     "data": {
      "text/plain": [
       "{'algorithm': 'ball_tree',\n",
       " 'leaf_size': 1,\n",
       " 'metric': 'minkowski',\n",
       " 'metric_params': None,\n",
       " 'n_jobs': None,\n",
       " 'n_neighbors': 3,\n",
       " 'p': 2,\n",
       " 'weights': 'uniform'}"
      ]
     },
     "execution_count": 157,
     "metadata": {
     },
     "output_type": "execute_result"
    }
   ],
   "source": [
    "##KNN normalized with hyperparameters + cross validation\n",
    "\n",
    "knn = KNeighborsClassifier()\n",
    "\n",
    "k_range = range(1, 31)\n",
    "leaf_range = 2 ** np.arange(10)\n",
    "weight_options = ['uniform', 'distance']\n",
    "algorithm_options = ['ball_tree', 'kd_tree', 'brute']\n",
    "\n",
    "hyperK = dict(n_neighbors = k_range, algorithm = algorithm_options, weights = weight_options, leaf_size = leaf_range)\n",
    "\n",
    "gridK = GridSearchCV(knn, hyperK, cv = 10, verbose = 1, n_jobs = -1)\n",
    "bestK = gridK.fit(outcome_train, features_train)\n",
    "\n",
    "bestK.best_estimator_.get_params()"
   ]
  },
  {
   "cell_type": "code",
   "execution_count": 158,
   "metadata": {
    "collapsed": false
   },
   "outputs": [
    {
     "name": "stdout",
     "output_type": "stream",
     "text": [
      "              precision    recall  f1-score   support\n",
      "\n",
      "           0       1.00      0.99      1.00       158\n",
      "           1       0.93      0.99      0.96       143\n",
      "           2       0.98      0.93      0.96       161\n",
      "           3       0.99      1.00      1.00       138\n",
      "\n",
      "    accuracy                           0.98       600\n",
      "   macro avg       0.98      0.98      0.98       600\n",
      "weighted avg       0.98      0.98      0.98       600\n",
      "\n"
     ]
    }
   ],
   "source": [
    "##Other metrics\n",
    "\n",
    "classes = bestK.predict(outcome_test)\n",
    "    \n",
    "accuracy = metrics.accuracy_score(classes, features_test)\n",
    "precision = metrics.precision_score(classes, features_test, average='micro')\n",
    "f1_score = metrics.f1_score(classes, features_test, average='micro')\n",
    "recall = metrics.recall_score(classes, features_test, average='micro')\n",
    "\n",
    "print(metrics.classification_report(classes, features_test))"
   ]
  },
  {
   "cell_type": "code",
   "execution_count": 159,
   "metadata": {
    "collapsed": false
   },
   "outputs": [
    {
     "name": "stdout",
     "output_type": "stream",
     "text": [
      "Model accuracy is 0.9766666666666667\n"
     ]
    }
   ],
   "source": [
    "##Model accuracy after use of GridSearch with normalised data\n",
    "\n",
    "print('Model accuracy is',bestK.score(outcome_test, features_test))"
   ]
  }
 ],
 "metadata": {
  "kernelspec": {
   "display_name": "Python 3 (system-wide)",
   "language": "python",
   "metadata": {
    "cocalc": {
     "description": "Python 3 programming language",
     "priority": 100,
     "url": "https://www.python.org/"
    }
   },
   "name": "python3",
   "resource_dir": "/ext/jupyter/kernels/python3"
  },
  "language_info": {
   "codemirror_mode": {
    "name": "ipython",
    "version": 3
   },
   "file_extension": ".py",
   "mimetype": "text/x-python",
   "name": "python",
   "nbconvert_exporter": "python",
   "pygments_lexer": "ipython3",
   "version": "3.8.5"
  }
 },
 "nbformat": 4,
 "nbformat_minor": 4
}