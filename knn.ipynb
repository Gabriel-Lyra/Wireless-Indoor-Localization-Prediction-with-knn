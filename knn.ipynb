{
 "cells": [
  {
   "cell_type": "code",
   "execution_count": 56,
   "metadata": {
    "collapsed": false
   },
   "outputs": [
   ],
   "source": [
    "##Importing libraries\n",
    "\n",
    "import numpy as np\n",
    "import pandas as pd\n",
    "\n",
    "import matplotlib.pyplot as plt\n",
    "%matplotlib inline\n",
    "\n",
    "##Algorithms used for prediction\n",
    "from sklearn.neighbors import KNeighborsClassifier\n",
    "\n",
    "##sklearn tools used for standardizing, normalising, predicting and reporting\n",
    "from sklearn.model_selection import train_test_split\n",
    "from sklearn import preprocessing\n",
    "from sklearn.preprocessing import StandardScaler\n",
    "from sklearn.model_selection import cross_val_score\n",
    "from sklearn import decomposition, datasets\n",
    "from sklearn.pipeline import Pipeline\n",
    "from sklearn.model_selection import GridSearchCV\n",
    "from sklearn import metrics\n",
    "\n",
    "import warnings\n",
    "warnings.filterwarnings('ignore')"
   ]
  },
  {
   "cell_type": "code",
   "execution_count": 57,
   "metadata": {
    "collapsed": false
   },
   "outputs": [
   ],
   "source": [
    "##Reading dataset (you can find it easily at my github project folder)\n",
    "\n",
    "dataset = pd.read_csv('wifi_localization.csv')"
   ]
  },
  {
   "cell_type": "code",
   "execution_count": 58,
   "metadata": {
    "collapsed": false
   },
   "outputs": [
    {
     "data": {
      "text/html": [
       "<div>\n",
       "<style scoped>\n",
       "    .dataframe tbody tr th:only-of-type {\n",
       "        vertical-align: middle;\n",
       "    }\n",
       "\n",
       "    .dataframe tbody tr th {\n",
       "        vertical-align: top;\n",
       "    }\n",
       "\n",
       "    .dataframe thead th {\n",
       "        text-align: right;\n",
       "    }\n",
       "</style>\n",
       "<table border=\"1\" class=\"dataframe\">\n",
       "  <thead>\n",
       "    <tr style=\"text-align: right;\">\n",
       "      <th></th>\n",
       "      <th>WS1</th>\n",
       "      <th>WS2</th>\n",
       "      <th>WS3</th>\n",
       "      <th>WS4</th>\n",
       "      <th>WS5</th>\n",
       "      <th>WS6</th>\n",
       "      <th>WS7</th>\n",
       "      <th>Class</th>\n",
       "    </tr>\n",
       "  </thead>\n",
       "  <tbody>\n",
       "    <tr>\n",
       "      <th>0</th>\n",
       "      <td>-64</td>\n",
       "      <td>-56</td>\n",
       "      <td>-61</td>\n",
       "      <td>-66</td>\n",
       "      <td>-71</td>\n",
       "      <td>-82</td>\n",
       "      <td>-81</td>\n",
       "      <td>1</td>\n",
       "    </tr>\n",
       "    <tr>\n",
       "      <th>1</th>\n",
       "      <td>-68</td>\n",
       "      <td>-57</td>\n",
       "      <td>-61</td>\n",
       "      <td>-65</td>\n",
       "      <td>-71</td>\n",
       "      <td>-85</td>\n",
       "      <td>-85</td>\n",
       "      <td>1</td>\n",
       "    </tr>\n",
       "    <tr>\n",
       "      <th>2</th>\n",
       "      <td>-63</td>\n",
       "      <td>-60</td>\n",
       "      <td>-60</td>\n",
       "      <td>-67</td>\n",
       "      <td>-76</td>\n",
       "      <td>-85</td>\n",
       "      <td>-84</td>\n",
       "      <td>1</td>\n",
       "    </tr>\n",
       "    <tr>\n",
       "      <th>3</th>\n",
       "      <td>-61</td>\n",
       "      <td>-60</td>\n",
       "      <td>-68</td>\n",
       "      <td>-62</td>\n",
       "      <td>-77</td>\n",
       "      <td>-90</td>\n",
       "      <td>-80</td>\n",
       "      <td>1</td>\n",
       "    </tr>\n",
       "    <tr>\n",
       "      <th>4</th>\n",
       "      <td>-63</td>\n",
       "      <td>-65</td>\n",
       "      <td>-60</td>\n",
       "      <td>-63</td>\n",
       "      <td>-77</td>\n",
       "      <td>-81</td>\n",
       "      <td>-87</td>\n",
       "      <td>1</td>\n",
       "    </tr>\n",
       "  </tbody>\n",
       "</table>\n",
       "</div>"
      ],
      "text/plain": [
       "   WS1  WS2  WS3  WS4  WS5  WS6  WS7  Class\n",
       "0  -64  -56  -61  -66  -71  -82  -81      1\n",
       "1  -68  -57  -61  -65  -71  -85  -85      1\n",
       "2  -63  -60  -60  -67  -76  -85  -84      1\n",
       "3  -61  -60  -68  -62  -77  -90  -80      1\n",
       "4  -63  -65  -60  -63  -77  -81  -87      1"
      ]
     },
     "execution_count": 58,
     "metadata": {
     },
     "output_type": "execute_result"
    }
   ],
   "source": [
    "##Peeking at data\n",
    "\n",
    "dataset.head()"
   ]
  },
  {
   "cell_type": "code",
   "execution_count": 59,
   "metadata": {
    "collapsed": false
   },
   "outputs": [
   ],
   "source": [
    "##Splitting the dataset\n",
    "\n",
    "features = dataset['Class']\n",
    "outcome = dataset.drop(['Class'], axis=1)"
   ]
  },
  {
   "cell_type": "code",
   "execution_count": 60,
   "metadata": {
    "collapsed": false
   },
   "outputs": [
   ],
   "source": [
    "##Splitting the data into test (30%) and training (70%)\n",
    "\n",
    "outcome_train, outcome_test, features_train, features_test = train_test_split(outcome, features, test_size = 0.3, random_state = 0)"
   ]
  },
  {
   "cell_type": "code",
   "execution_count": 61,
   "metadata": {
    "collapsed": false
   },
   "outputs": [
    {
     "data": {
      "text/plain": [
       "99.36"
      ]
     },
     "execution_count": 61,
     "metadata": {
     },
     "output_type": "execute_result"
    }
   ],
   "source": [
    "##KNN\n",
    "\n",
    "knn = KNeighborsClassifier(n_neighbors = 3)\n",
    "knn.fit(outcome_train, features_train)\n",
    "\n",
    "accuracy_knn = round(knn.score(outcome_train, features_train) * 100, 2)\n",
    "\n",
    "accuracy_knn"
   ]
  },
  {
   "cell_type": "code",
   "execution_count": 62,
   "metadata": {
    "collapsed": false
   },
   "outputs": [
    {
     "name": "stdout",
     "output_type": "stream",
     "text": [
      "Fitting 10 folds for each of 1800 candidates, totalling 18000 fits\n"
     ]
    },
    {
     "data": {
      "text/plain": [
       "{'algorithm': 'ball_tree',\n",
       " 'leaf_size': 1,\n",
       " 'metric': 'minkowski',\n",
       " 'metric_params': None,\n",
       " 'n_jobs': None,\n",
       " 'n_neighbors': 4,\n",
       " 'p': 2,\n",
       " 'weights': 'uniform'}"
      ]
     },
     "execution_count": 62,
     "metadata": {
     },
     "output_type": "execute_result"
    }
   ],
   "source": [
    "##KNN with hyperparameters + cross validation\n",
    "\n",
    "knn = KNeighborsClassifier()\n",
    "\n",
    "k_range = range(1, 31)\n",
    "leaf_range = 2 ** np.arange(10)\n",
    "weight_options = ['uniform', 'distance']\n",
    "algorithm_options = ['ball_tree', 'kd_tree', 'brute']\n",
    "\n",
    "hyperK = dict(n_neighbors = k_range, algorithm = algorithm_options, weights = weight_options, leaf_size = leaf_range)\n",
    "\n",
    "gridK = GridSearchCV(knn, hyperK, cv = 10, verbose = 1, n_jobs = -1)\n",
    "bestK = gridK.fit(outcome_train, features_train)\n",
    "\n",
    "bestK.best_estimator_.get_params()"
   ]
  },
  {
   "cell_type": "code",
   "execution_count": 63,
   "metadata": {
    "collapsed": false
   },
   "outputs": [
    {
     "name": "stdout",
     "output_type": "stream",
     "text": [
      "              precision    recall  f1-score   support\n",
      "\n",
      "           1       1.00      0.99      1.00       346\n",
      "           2       0.99      1.00      0.99       346\n",
      "           3       0.99      0.98      0.99       349\n",
      "           4       0.99      1.00      0.99       359\n",
      "\n",
      "    accuracy                           0.99      1400\n",
      "   macro avg       0.99      0.99      0.99      1400\n",
      "weighted avg       0.99      0.99      0.99      1400\n",
      "\n"
     ]
    }
   ],
   "source": [
    "##Other metrics to use as reference\n",
    "\n",
    "classes = bestK.predict(outcome_train)\n",
    "    \n",
    "accuracy = metrics.accuracy_score(classes, features_train)\n",
    "precision = metrics.precision_score(classes, features_train, average='micro')\n",
    "f1_score = metrics.f1_score(classes, features_train, average='micro')\n",
    "recall = metrics.recall_score(classes, features_train, average='micro')\n",
    "\n",
    "print(metrics.classification_report(classes, features_train))"
   ]
  },
  {
   "cell_type": "code",
   "execution_count": 64,
   "metadata": {
    "collapsed": false
   },
   "outputs": [
    {
     "name": "stdout",
     "output_type": "stream",
     "text": [
      "Model accuracy is 0.9921428571428571\n"
     ]
    }
   ],
   "source": [
    "##Model accuracy after use of GridSearch\n",
    "\n",
    "print('Model accuracy is',bestK.score(outcome_train, features_train))"
   ]
  },
  {
   "cell_type": "code",
   "execution_count": 65,
   "metadata": {
    "collapsed": false
   },
   "outputs": [
   ],
   "source": [
    "##Using StandardScalar to normalise the dataset\n",
    "\n",
    "standard_scalar = StandardScaler()\n",
    "outcome_train = pd.DataFrame(standard_scalar.fit_transform(outcome_train), columns = outcome.columns)\n",
    "outcome_test = pd.DataFrame(standard_scalar.transform(outcome_test), columns = outcome.columns)"
   ]
  },
  {
   "cell_type": "code",
   "execution_count": 66,
   "metadata": {
    "collapsed": false
   },
   "outputs": [
    {
     "data": {
      "text/html": [
       "<div>\n",
       "<style scoped>\n",
       "    .dataframe tbody tr th:only-of-type {\n",
       "        vertical-align: middle;\n",
       "    }\n",
       "\n",
       "    .dataframe tbody tr th {\n",
       "        vertical-align: top;\n",
       "    }\n",
       "\n",
       "    .dataframe thead th {\n",
       "        text-align: right;\n",
       "    }\n",
       "</style>\n",
       "<table border=\"1\" class=\"dataframe\">\n",
       "  <thead>\n",
       "    <tr style=\"text-align: right;\">\n",
       "      <th></th>\n",
       "      <th>WS1</th>\n",
       "      <th>WS2</th>\n",
       "      <th>WS3</th>\n",
       "      <th>WS4</th>\n",
       "      <th>WS5</th>\n",
       "      <th>WS6</th>\n",
       "      <th>WS7</th>\n",
       "    </tr>\n",
       "  </thead>\n",
       "  <tbody>\n",
       "    <tr>\n",
       "      <th>0</th>\n",
       "      <td>-0.499180</td>\n",
       "      <td>-0.084794</td>\n",
       "      <td>0.557460</td>\n",
       "      <td>-0.041795</td>\n",
       "      <td>1.147387</td>\n",
       "      <td>-0.908277</td>\n",
       "      <td>-0.348835</td>\n",
       "    </tr>\n",
       "    <tr>\n",
       "      <th>1</th>\n",
       "      <td>-0.411703</td>\n",
       "      <td>-0.957676</td>\n",
       "      <td>2.065929</td>\n",
       "      <td>-0.558090</td>\n",
       "      <td>0.709811</td>\n",
       "      <td>-0.908277</td>\n",
       "      <td>-0.500361</td>\n",
       "    </tr>\n",
       "    <tr>\n",
       "      <th>2</th>\n",
       "      <td>0.375588</td>\n",
       "      <td>0.497127</td>\n",
       "      <td>0.557460</td>\n",
       "      <td>-0.041795</td>\n",
       "      <td>0.491023</td>\n",
       "      <td>-0.908277</td>\n",
       "      <td>-1.106465</td>\n",
       "    </tr>\n",
       "    <tr>\n",
       "      <th>3</th>\n",
       "      <td>-0.236750</td>\n",
       "      <td>0.788088</td>\n",
       "      <td>-0.385333</td>\n",
       "      <td>-1.160433</td>\n",
       "      <td>-0.165341</td>\n",
       "      <td>0.142994</td>\n",
       "      <td>0.560322</td>\n",
       "    </tr>\n",
       "    <tr>\n",
       "      <th>4</th>\n",
       "      <td>3.349797</td>\n",
       "      <td>0.497127</td>\n",
       "      <td>-0.385333</td>\n",
       "      <td>3.314118</td>\n",
       "      <td>-0.712312</td>\n",
       "      <td>-0.157369</td>\n",
       "      <td>1.621004</td>\n",
       "    </tr>\n",
       "  </tbody>\n",
       "</table>\n",
       "</div>"
      ],
      "text/plain": [
       "        WS1       WS2       WS3       WS4       WS5       WS6       WS7\n",
       "0 -0.499180 -0.084794  0.557460 -0.041795  1.147387 -0.908277 -0.348835\n",
       "1 -0.411703 -0.957676  2.065929 -0.558090  0.709811 -0.908277 -0.500361\n",
       "2  0.375588  0.497127  0.557460 -0.041795  0.491023 -0.908277 -1.106465\n",
       "3 -0.236750  0.788088 -0.385333 -1.160433 -0.165341  0.142994  0.560322\n",
       "4  3.349797  0.497127 -0.385333  3.314118 -0.712312 -0.157369  1.621004"
      ]
     },
     "execution_count": 66,
     "metadata": {
     },
     "output_type": "execute_result"
    }
   ],
   "source": [
    "outcome_train.head()"
   ]
  },
  {
   "cell_type": "code",
   "execution_count": 67,
   "metadata": {
    "collapsed": false
   },
   "outputs": [
    {
     "name": "stdout",
     "output_type": "stream",
     "text": [
      "Fitting 10 folds for each of 1800 candidates, totalling 18000 fits\n"
     ]
    },
    {
     "data": {
      "text/plain": [
       "{'algorithm': 'ball_tree',\n",
       " 'leaf_size': 1,\n",
       " 'metric': 'minkowski',\n",
       " 'metric_params': None,\n",
       " 'n_jobs': None,\n",
       " 'n_neighbors': 4,\n",
       " 'p': 2,\n",
       " 'weights': 'distance'}"
      ]
     },
     "execution_count": 67,
     "metadata": {
     },
     "output_type": "execute_result"
    }
   ],
   "source": [
    "##KNN with hyperparameters + cross validation + normalised dataset\n",
    "\n",
    "knn = KNeighborsClassifier()\n",
    "\n",
    "k_range = range(1, 31)\n",
    "leaf_range = 2 ** np.arange(10)\n",
    "weight_options = ['uniform', 'distance']\n",
    "algorithm_options = ['ball_tree', 'kd_tree', 'brute']\n",
    "\n",
    "hyperK = dict(n_neighbors = k_range, algorithm = algorithm_options, weights = weight_options, leaf_size = leaf_range)\n",
    "\n",
    "gridK = GridSearchCV(knn, hyperK, cv = 10, verbose = 1, n_jobs = -1)\n",
    "bestK = gridK.fit(outcome_train, features_train)\n",
    "\n",
    "bestK.best_estimator_.get_params()"
   ]
  },
  {
   "cell_type": "code",
   "execution_count": 68,
   "metadata": {
    "collapsed": false
   },
   "outputs": [
    {
     "name": "stdout",
     "output_type": "stream",
     "text": [
      "              precision    recall  f1-score   support\n",
      "\n",
      "           1       1.00      1.00      1.00       343\n",
      "           2       1.00      1.00      1.00       349\n",
      "           3       1.00      1.00      1.00       347\n",
      "           4       1.00      1.00      1.00       361\n",
      "\n",
      "    accuracy                           1.00      1400\n",
      "   macro avg       1.00      1.00      1.00      1400\n",
      "weighted avg       1.00      1.00      1.00      1400\n",
      "\n"
     ]
    }
   ],
   "source": [
    "##New metrics result\n",
    "\n",
    "classes = bestK.predict(outcome_train)\n",
    "    \n",
    "accuracy = metrics.accuracy_score(classes, features_train)\n",
    "precision = metrics.precision_score(classes, features_train, average='micro')\n",
    "f1_score = metrics.f1_score(classes, features_train, average='micro')\n",
    "recall = metrics.recall_score(classes, features_train, average='micro')\n",
    "\n",
    "print(metrics.classification_report(classes, features_train))"
   ]
  },
  {
   "cell_type": "code",
   "execution_count": 69,
   "metadata": {
    "collapsed": false
   },
   "outputs": [
    {
     "name": "stdout",
     "output_type": "stream",
     "text": [
      "Model accuracy is 1.0\n"
     ]
    }
   ],
   "source": [
    "##Model accuracy after use of GridSearch with normalised data\n",
    "\n",
    "print('Model accuracy is',bestK.score(outcome_train, features_train))"
   ]
  },
  {
   "cell_type": "code",
   "execution_count": 0,
   "metadata": {
    "collapsed": false
   },
   "outputs": [
   ],
   "source": [
   ]
  }
 ],
 "metadata": {
  "kernelspec": {
   "display_name": "Python 3 (system-wide)",
   "language": "python",
   "metadata": {
    "cocalc": {
     "description": "Python 3 programming language",
     "priority": 100,
     "url": "https://www.python.org/"
    }
   },
   "name": "python3",
   "resource_dir": "/ext/jupyter/kernels/python3"
  },
  "language_info": {
   "codemirror_mode": {
    "name": "ipython",
    "version": 3
   },
   "file_extension": ".py",
   "mimetype": "text/x-python",
   "name": "python",
   "nbconvert_exporter": "python",
   "pygments_lexer": "ipython3",
   "version": "3.8.5"
  }
 },
 "nbformat": 4,
 "nbformat_minor": 4
}